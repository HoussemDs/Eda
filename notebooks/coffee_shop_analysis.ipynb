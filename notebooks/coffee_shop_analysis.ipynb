{
 "cells": [
  {
   "cell_type": "markdown",
   "metadata": {},
   "source": [
    "# Coffee Shop Sales Analysis\n",
    "\n",
    "This notebook demonstrates a comprehensive analysis of coffee shop sales data using our modular analysis framework."
   ]
  },
  {
   "cell_type": "code",
   "execution_count": null,
   "metadata": {},
   "source": [
    "import sys\n",
    "sys.path.append('..')\n",
    "\n",
    "from src.data.data_loader import DataLoader\n",
    "from src.preprocessing.preprocessor import DataPreprocessor\n",
    "from src.features.feature_engineering import FeatureEngineer\n",
    "from src.visualization.sales_visualizer import SalesVisualizer\n",
    "from src.models.sales_analyzer import SalesAnalyzer"
   ]
  },
  {
   "cell_type": "markdown",
   "metadata": {},
   "source": [
    "## 1. Data Loading"
   ]
  },
  {
   "cell_type": "code",
   "execution_count": null,
   "metadata": {},
   "source": [
    "# Initialize data loader\n",
    "loader = DataLoader('../Coffee Shop Sales.xlsx')\n",
    "df = loader.load_data()\n",
    "print(\"\\nSample of raw data:\")\n",
    "df.head()"
   ]
  },
  {
   "cell_type": "markdown",
   "metadata": {},
   "source": [
    "## 2. Data Preprocessing"
   ]
  },
  {
   "cell_type": "code",
   "execution_count": null,
   "metadata": {},
   "source": [
    "# Preprocess the data\n",
    "preprocessor = DataPreprocessor()\n",
    "df_processed = preprocessor.preprocess_data(df)\n",
    "\n",
    "# Check data quality\n",
    "quality_metrics = preprocessor.check_data_quality(df_processed)\n",
    "print(\"\\nData Quality Metrics:\")\n",
    "for metric, value in quality_metrics.items():\n",
    "    print(f\"{metric}: {value}\")"
   ]
  },
  {
   "cell_type": "markdown",
   "metadata": {},
   "source": [
    "## 3. Feature Engineering"
   ]
  },
  {
   "cell_type": "code",
   "execution_count": null,
   "metadata": {},
   "source": [
    "# Create additional features\n",
    "feature_engineer = FeatureEngineer()\n",
    "df_featured = df_processed.pipe(feature_engineer.create_time_features)\\\n",
    "                          .pipe(feature_engineer.create_sales_features)\\\n",
    "                          .pipe(feature_engineer.create_store_features)\n",
    "\n",
    "print(\"\\nNew features added:\")\n",
    "new_features = set(df_featured.columns) - set(df_processed.columns)\n",
    "print(new_features)"
   ]
  },
  {
   "cell_type": "markdown",
   "metadata": {},
   "source": [
    "## 4. Sales Analysis"
   ]
  },
  {
   "cell_type": "code",
   "execution_count": null,
   "metadata": {},
   "source": [
    "# Analyze sales trends\n",
    "analyzer = SalesAnalyzer()\n",
    "sales_trends = analyzer.analyze_sales_trends(df_featured)\n",
    "\n",
    "print(\"\\nSales Trend Analysis:\")\n",
    "for metric, value in sales_trends.items():\n",
    "    print(f\"{metric}: {value}\")\n",
    "\n",
    "# Analyze product performance\n",
    "product_metrics = analyzer.analyze_product_performance(df_featured)\n",
    "print(\"\\nTop 5 Products by Sales:\")\n",
    "print(product_metrics.head())\n",
    "\n",
    "# Analyze store performance\n",
    "store_metrics = analyzer.analyze_store_performance(df_featured)\n",
    "print(\"\\nStore Performance:\")\n",
    "print(store_metrics)"
   ]
  },
  {
   "cell_type": "markdown",
   "metadata": {},
   "source": [
    "## 5. Data Visualization"
   ]
  },
  {
   "cell_type": "code",
   "execution_count": null,
   "metadata": {},
   "source": [
    "# Initialize visualizer\n",
    "visualizer = SalesVisualizer(output_dir='../reports/figures')\n",
    "\n",
    "# Create various visualizations\n",
    "visualizer.plot_daily_sales_trend(df_featured)\n",
    "visualizer.plot_hourly_sales_pattern(df_featured)\n",
    "visualizer.plot_product_category_sales(df_featured)\n",
    "visualizer.plot_store_performance(df_featured)\n",
    "visualizer.plot_sales_heatmap(df_featured)"
   ]
  },
  {
   "cell_type": "markdown",
   "metadata": {},
   "source": [
    "## 6. Customer Segmentation"
   ]
  },
  {
   "cell_type": "code",
   "execution_count": null,
   "metadata": {},
   "source": [
    "# Perform customer segmentation\n",
    "customer_segments, model = analyzer.segment_customers(df_featured)\n",
    "\n",
    "print(\"\\nCustomer Segments Summary:\")\n",
    "print(customer_segments.groupby('segment').agg({\n",
    "    'total_amount': ['mean', 'count'],\n",
    "    'transaction_qty': 'mean',\n",
    "    'product_id': 'mean'\n",
    "}).round(2))"
   ]
  }
 ],
 "metadata": {
  "kernelspec": {
   "display_name": "Python 3",
   "language": "python",
   "name": "python3"
  },
  "language_info": {
   "codemirror_mode": {
    "name": "ipython",
    "version": 3
   },
   "file_extension": ".py",
   "mimetype": "text/x-python",
   "name": "python",
   "nbconvert_exporter": "python",
   "pygments_lexer": "ipython3",
   "version": "3.8.0"
  }
 },
 "nbformat": 4,
 "nbformat_minor": 4
}
